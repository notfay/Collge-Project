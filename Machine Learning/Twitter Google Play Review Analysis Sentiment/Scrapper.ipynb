{
  "nbformat": 4,
  "nbformat_minor": 0,
  "metadata": {
    "colab": {
      "provenance": []
    },
    "kernelspec": {
      "name": "python3",
      "display_name": "Python 3"
    },
    "language_info": {
      "name": "python"
    }
  },
  "cells": [
    {
      "cell_type": "code",
      "execution_count": null,
      "metadata": {
        "colab": {
          "base_uri": "https://localhost:8080/"
        },
        "id": "4-jwVCmgZ87c",
        "outputId": "516b6099-bffd-493b-a164-ebeaae2916ee"
      },
      "outputs": [
        {
          "output_type": "stream",
          "name": "stdout",
          "text": [
            "Requirement already satisfied: google-play-scraper in /usr/local/lib/python3.10/dist-packages (1.2.7)\n"
          ]
        }
      ],
      "source": [
        "!pip install google-play-scraper\n",
        "from google_play_scraper import app, reviews, Sort, reviews_all\n",
        "import csv\n",
        "\n",
        "scrapreview = reviews_all(\n",
        "    'com.twitter.android',          # ID aplikasi\n",
        "    lang='id',             # Bahasa ulasan (default: 'en')\n",
        "    country='id',          # Negara (default: 'us')\n",
        "    sort=Sort.MOST_RELEVANT, # Urutan ulasan (default: Sort.MOST_RELEVANT)\n",
        "    count=30000             # Jumlah maksimum ulasan yang ingin diambil\n",
        ")"
      ]
    },
    {
      "cell_type": "code",
      "source": [
        "with open('twitter_review.csv', mode='w', newline='', encoding='utf-8') as file:\n",
        "    writer = csv.writer(file)\n",
        "    writer.writerow(['Review'])  # Menulis header kolom\n",
        "    for review in scrapreview:\n",
        "        writer.writerow([review['content']])  # Menulis konten ulasan ke dalam file CSV"
      ],
      "metadata": {
        "id": "vMKY1AiAcxh_"
      },
      "execution_count": null,
      "outputs": []
    }
  ]
}