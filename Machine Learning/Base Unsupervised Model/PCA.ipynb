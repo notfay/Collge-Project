{
  "nbformat": 4,
  "nbformat_minor": 0,
  "metadata": {
    "colab": {
      "provenance": []
    },
    "kernelspec": {
      "name": "python3",
      "display_name": "Python 3"
    },
    "language_info": {
      "name": "python"
    }
  },
  "cells": [
    {
      "cell_type": "code",
      "execution_count": 13,
      "metadata": {
        "colab": {
          "base_uri": "https://localhost:8080/"
        },
        "id": "zHeaTMtU3RVk",
        "outputId": "63749357-41f8-4079-ea9a-c0544555c263"
      },
      "outputs": [
        {
          "output_type": "execute_result",
          "data": {
            "text/plain": [
              "0.9666666666666667"
            ]
          },
          "metadata": {},
          "execution_count": 13
        }
      ],
      "source": [
        "from sklearn import datasets\n",
        "from sklearn.model_selection import train_test_split\n",
        "from sklearn import tree\n",
        "\n",
        "iris = datasets.load_iris()\n",
        "\n",
        "x = iris.data\n",
        "y = iris.target\n",
        "\n",
        "#Split the data set into training and testing\n",
        "\n",
        "x_train, x_test, y_train, y_test = train_test_split(x, y, test_size=0.2, random_state = 1)\n",
        "\n",
        "#Training the model\n",
        "tree = tree.DecisionTreeClassifier()\n",
        "\n",
        "#Model Accuracy without PCA\n",
        "firstModel  = tree.fit(x_train, y_train)\n",
        "firstModel.score(x_test, y_test)\n"
      ]
    },
    {
      "cell_type": "code",
      "source": [
        "from sklearn.decomposition import PCA\n",
        "\n",
        "#PCA with 4 principal\n",
        "pca = PCA(n_components=4)\n",
        "\n",
        "#Apply PCA to datasets\n",
        "pca_attributes = pca.fit_transform(x_train)\n",
        "\n",
        "#Variance of each attributes\n",
        "pca.explained_variance_ratio_"
      ],
      "metadata": {
        "colab": {
          "base_uri": "https://localhost:8080/"
        },
        "id": "eiZWQqJJ5EI4",
        "outputId": "14fd1b90-9cce-46dd-8e4f-1c3e743fffc2"
      },
      "execution_count": 14,
      "outputs": [
        {
          "output_type": "execute_result",
          "data": {
            "text/plain": [
              "array([0.92848323, 0.04764372, 0.01931005, 0.004563  ])"
            ]
          },
          "metadata": {},
          "execution_count": 14
        }
      ]
    },
    {
      "cell_type": "code",
      "source": [
        "#PCA with 2 principal\n",
        "\n",
        "pca = PCA(n_components = 2)\n",
        "x_train_pca = pca.fit_transform(x_train)\n",
        "x_test_pca = pca.fit_transform(x_test)\n",
        "\n",
        "#Model Accuracy with PCA\n",
        "secondModel = tree.fit(x_train_pca, y_train)\n",
        "secondModel.score(x_test_pca, y_test)"
      ],
      "metadata": {
        "colab": {
          "base_uri": "https://localhost:8080/"
        },
        "id": "2OefP-qJ5eHR",
        "outputId": "a995afa0-bc9e-44b9-9e88-aa719de01be5"
      },
      "execution_count": 16,
      "outputs": [
        {
          "output_type": "execute_result",
          "data": {
            "text/plain": [
              "0.9333333333333333"
            ]
          },
          "metadata": {},
          "execution_count": 16
        }
      ]
    }
  ]
}