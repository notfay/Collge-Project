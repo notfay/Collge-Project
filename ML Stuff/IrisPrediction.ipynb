{
  "nbformat": 4,
  "nbformat_minor": 0,
  "metadata": {
    "colab": {
      "provenance": []
    },
    "kernelspec": {
      "name": "python3",
      "display_name": "Python 3"
    },
    "language_info": {
      "name": "python"
    }
  },
  "cells": [
    {
      "cell_type": "code",
      "execution_count": 32,
      "metadata": {
        "colab": {
          "base_uri": "https://localhost:8080/"
        },
        "id": "Z32JHdpweZ3M",
        "outputId": "8ad75c75-0244-4075-8828-bbab6935216e"
      },
      "outputs": [
        {
          "output_type": "stream",
          "name": "stdout",
          "text": [
            "Accuracy 0.933\n",
            "Iris-virginica\n"
          ]
        }
      ],
      "source": [
        "import pandas as pd\n",
        "from sklearn.model_selection import train_test_split\n",
        "from sklearn.tree import DecisionTreeClassifier\n",
        "from sklearn.metrics import accuracy_score\n",
        "from sklearn.tree import export_graphviz\n",
        "\n",
        "\n",
        "#View the CSV file\n",
        "ds = pd.read_csv('Iris.csv')\n",
        "\n",
        "#Drop/Delete the ID Section of the file\n",
        "ds.drop('Id', axis=1, inplace=True)\n",
        "\n",
        "#Seperate the attribute\n",
        "X = ds[['SepalLengthCm', 'SepalWidthCm', 'PetalLengthCm', 'PetalWidthCm']]\n",
        "y = ds['Species']\n",
        "\n",
        "\n",
        "#Splitting the dataset (train and test)\n",
        "x_train, x_test, y_train, y_test = train_test_split(x, y, test_size=0.1, random_state=123)\n",
        "\n",
        "#Using the Decisision Tree as the supervised model\n",
        "tree_model = DecisionTreeClassifier()\n",
        "\n",
        "#Train the model\n",
        "tree_model = tree_model.fit(x_train, y_train)\n",
        "\n",
        "#Predicting using the model\n",
        "y_pred = tree_model.predict(x_test)\n",
        "\n",
        "acc_score = round(accuracy_score(y_pred, y_test), 3)\n",
        "\n",
        "print(f\"Accuracy {acc_score}\")\n",
        "\n",
        "\n",
        "#testing the model with  custom data = tree_model.predict([[SepalLength, SepalWidth, PetalLength, PetalWidth]])\n",
        "print(tree_model.predict([[6.2, 3.4, 5.4, 2.3]])[0])\n",
        "\n",
        "export_graphviz(\n",
        "    tree_model,\n",
        "    out_file = \"iris_tree.dot\",\n",
        "    feature_names = ['SepalLengthCm', 'SepalWidthCm', 'PetalLengthCm', 'PetalWidthCm'],\n",
        "    class_names = ['Iris-setosa', 'Iris-versicolor', 'Iris-virginica' ],\n",
        "    rounded= True,\n",
        "    filled =True)"
      ]
    }
  ]
}